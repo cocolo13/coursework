{
 "cells": [
  {
   "cell_type": "code",
   "execution_count": 1,
   "id": "7313c196-809d-4cfb-8fdf-d14a41741d6c",
   "metadata": {},
   "outputs": [],
   "source": [
    "import os, sys\n",
    "PWD = os.getenv ('PWD')\n",
    "\n",
    "\n",
    "def init_django(project_name=None) :\n",
    "    os.chdir (PWD)\n",
    "    project_name = project_name or os.environ.get (project_name)\n",
    "\n",
    "    os.environ.setdefault('DJANGO_SETTINGS_MODULE', f'{project_name}.settings')\n",
    "    os.environ[\"DJANGO_ALLOW_ASYNC_UNSAFE\" ] = \"true\"\n",
    "    import django\n",
    "    django. setup ()\n",
    "init_django(\"OnlineShop\")"
   ]
  },
  {
   "cell_type": "code",
   "execution_count": 2,
   "id": "82813f5a-9433-4652-9674-50c0950e5ab9",
   "metadata": {},
   "outputs": [],
   "source": [
    "import pandas as pd\n",
    "import numpy as np"
   ]
  },
  {
   "cell_type": "code",
   "execution_count": 3,
   "id": "d1b54e2d-6fc0-4bc3-a6b6-bef689d361a3",
   "metadata": {},
   "outputs": [],
   "source": [
    "from ProductFeed.models import *\n",
    "from ProductFeed.views import show_product_info"
   ]
  },
  {
   "cell_type": "code",
   "execution_count": 6,
   "id": "082fd518-2c6a-4710-bd3c-7d199ac0cbda",
   "metadata": {},
   "outputs": [],
   "source": [
    "cl = Clothes.objects.get(pk=5)"
   ]
  },
  {
   "cell_type": "code",
   "execution_count": 10,
   "id": "49b91b81-7bd1-48f8-b00a-22acf7007ce5",
   "metadata": {},
   "outputs": [
    {
     "name": "stdout",
     "output_type": "stream",
     "text": [
      "_state <django.db.models.base.ModelState object at 0x13827d710>\n",
      "id 5\n",
      "title Кардиган\n",
      "cost 2250\n",
      "category Одежда\n",
      "photo photos/2025/02/19/Снимок_экрана_2025-02-19_в_19.13.37.png\n",
      "brand Sela\n",
      "color brown\n",
      "by_count 0\n",
      "is_premium False\n",
      "gender Male\n",
      "count_in_stock 10\n"
     ]
    }
   ],
   "source": [
    "for field_name, field_value in cl.__dict__.items():\n",
    "    print(field_name, field_value)"
   ]
  },
  {
   "cell_type": "code",
   "execution_count": null,
   "id": "efe24826-4e37-4d1e-82fe-959c211f5184",
   "metadata": {},
   "outputs": [],
   "source": []
  }
 ],
 "metadata": {
  "kernelspec": {
   "display_name": "Python 3 (ipykernel)",
   "language": "python",
   "name": "python3"
  },
  "language_info": {
   "codemirror_mode": {
    "name": "ipython",
    "version": 3
   },
   "file_extension": ".py",
   "mimetype": "text/x-python",
   "name": "python",
   "nbconvert_exporter": "python",
   "pygments_lexer": "ipython3",
   "version": "3.11.7"
  }
 },
 "nbformat": 4,
 "nbformat_minor": 5
}
